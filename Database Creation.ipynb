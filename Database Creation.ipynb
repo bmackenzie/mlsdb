{
 "cells": [
  {
   "cell_type": "code",
   "execution_count": 5,
   "id": "b068e3a3",
   "metadata": {},
   "outputs": [],
   "source": [
    "import pandas as pd\n",
    "import sqlite3"
   ]
  },
  {
   "cell_type": "code",
   "execution_count": 6,
   "id": "6b3075f7",
   "metadata": {},
   "outputs": [],
   "source": [
    "df1 = pd.read_csv('player_defense.csv')\n",
    "df2 = pd.read_csv('player_gsc.csv')\n",
    "df3 = pd.read_csv('player_misc.csv')\n",
    "df4 = pd.read_csv('player_passing.csv')\n",
    "df5 = pd.read_csv('player_possesion.csv')\n",
    "df6 = pd.read_csv('player_shooting.csv')\n",
    "df7 = pd.read_csv('player_time.csv')"
   ]
  },
  {
   "cell_type": "code",
   "execution_count": 8,
   "id": "b7b91ea9",
   "metadata": {},
   "outputs": [
    {
     "name": "stderr",
     "output_type": "stream",
     "text": [
      "C:\\Users\\Brian\\AppData\\Local\\Temp/ipykernel_21040/3956993825.py:1: FutureWarning: In a future version of pandas all arguments of DataFrame.drop except for the argument 'labels' will be keyword-only\n",
      "  df1.drop(df1.columns[[8,15, 17, 19]], 1, inplace = True)\n",
      "C:\\Users\\Brian\\AppData\\Local\\Temp/ipykernel_21040/3956993825.py:2: FutureWarning: In a future version of pandas all arguments of DataFrame.drop except for the argument 'labels' will be keyword-only\n",
      "  df1.drop(['Matches', '-9999'], 1, inplace = True)\n",
      "C:\\Users\\Brian\\AppData\\Local\\Temp/ipykernel_21040/3956993825.py:3: FutureWarning: In a future version of pandas all arguments of DataFrame.drop except for the argument 'labels' will be keyword-only\n",
      "  df2.drop(['Rk', 'Nation', 'Pos', 'Squad', 'Age', 'Born', '90s', 'Matches', '-9999', 'SCA', 'SCA90', 'GCA', 'GCA90'], 1, inplace = True)\n",
      "C:\\Users\\Brian\\AppData\\Local\\Temp/ipykernel_21040/3956993825.py:4: FutureWarning: In a future version of pandas all arguments of DataFrame.drop except for the argument 'labels' will be keyword-only\n",
      "  df3.drop(['Rk', 'Nation', 'Pos', 'Squad', 'Age', 'Born', '90s', 'Matches', '-9999', 'Int', 'TklW'], 1, inplace = True)\n",
      "C:\\Users\\Brian\\AppData\\Local\\Temp/ipykernel_21040/3956993825.py:5: FutureWarning: In a future version of pandas all arguments of DataFrame.drop except for the argument 'labels' will be keyword-only\n",
      "  df4.drop(['Rk', 'Nation', 'Pos', 'Squad', 'Age', 'Born', '90s', 'Matches', '-9999', 'Cmp.1', 'Att.1', 'Cmp%.1', 'Cmp%.2', 'Cmp%.3', 'A-xA', 'KP', '1/3'], 1, inplace = True)\n",
      "C:\\Users\\Brian\\AppData\\Local\\Temp/ipykernel_21040/3956993825.py:6: FutureWarning: In a future version of pandas all arguments of DataFrame.drop except for the argument 'labels' will be keyword-only\n",
      "  df5.drop(['Rk', 'Nation', 'Pos', 'Squad', 'Age', 'Born', '90s', 'Matches', '-9999', 'Touches', 'Live', 'Succ%', '1/3'], 1, inplace = True)\n",
      "C:\\Users\\Brian\\AppData\\Local\\Temp/ipykernel_21040/3956993825.py:7: FutureWarning: In a future version of pandas all arguments of DataFrame.drop except for the argument 'labels' will be keyword-only\n",
      "  df6.drop(['Rk', 'Nation', 'Pos', 'Squad', 'Age', 'Born', '90s', 'SoT%', 'Sh/90', 'SoT/90', 'G/Sh', 'G/SoT', 'npxG/Sh', 'G-xG', 'np:G-xG'], 1, inplace = True)\n",
      "C:\\Users\\Brian\\AppData\\Local\\Temp/ipykernel_21040/3956993825.py:8: FutureWarning: In a future version of pandas all arguments of DataFrame.drop except for the argument 'labels' will be keyword-only\n",
      "  df7.drop(['Rk', 'Nation', 'Pos', 'Squad', 'Age', 'Born', '90s', 'Matches', '-9999', 'Mn/MP', 'Min%', '+/-90', 'xG+/-', 'xG+/-90', 'On-Off.1'], 1, inplace = True)\n"
     ]
    }
   ],
   "source": [
    "df1.drop(df1.columns[[8,15, 17, 19]], 1, inplace = True)\n",
    "df1.drop(['Matches', '-9999'], 1, inplace = True)\n",
    "df2.drop(['Rk', 'Nation', 'Pos', 'Squad', 'Age', 'Born', '90s', 'Matches', '-9999', 'SCA', 'SCA90', 'GCA', 'GCA90'], 1, inplace = True)\n",
    "df3.drop(['Rk', 'Nation', 'Pos', 'Squad', 'Age', 'Born', '90s', 'Matches', '-9999', 'Int', 'TklW'], 1, inplace = True)\n",
    "df4.drop(['Rk', 'Nation', 'Pos', 'Squad', 'Age', 'Born', '90s', 'Matches', '-9999', 'Cmp.1', 'Att.1', 'Cmp%.1', 'Cmp%.2', 'Cmp%.3', 'A-xA', 'KP', '1/3'], 1, inplace = True)\n",
    "df5.drop(['Rk', 'Nation', 'Pos', 'Squad', 'Age', 'Born', '90s', 'Matches', '-9999', 'Touches', 'Live', 'Succ%', '1/3'], 1, inplace = True)\n",
    "df6.drop(['Rk', 'Nation', 'Pos', 'Squad', 'Age', 'Born', '90s', 'SoT%', 'Sh/90', 'SoT/90', 'G/Sh', 'G/SoT', 'npxG/Sh', 'G-xG', 'np:G-xG'], 1, inplace = True)\n",
    "df7.drop(['Rk', 'Nation', 'Pos', 'Squad', 'Age', 'Born', '90s', 'Matches', '-9999', 'Mn/MP', 'Min%', '+/-90', 'xG+/-', 'xG+/-90', 'On-Off.1'], 1, inplace = True)"
   ]
  },
  {
   "cell_type": "code",
   "execution_count": 9,
   "id": "87322540",
   "metadata": {},
   "outputs": [],
   "source": [
    "df = pd.merge(df1, df2, how = 'inner', on='Player')\n",
    "df = pd.merge(df, df3, how = 'inner', on='Player')\n",
    "df = pd.merge(df, df4, how = 'inner', on='Player')\n",
    "df = pd.merge(df, df5, how = 'inner', on='Player')\n",
    "df = pd.merge(df, df6, how = 'inner', on='Player')\n",
    "df = pd.merge(df, df7, how = 'inner', on='Player')"
   ]
  },
  {
   "cell_type": "code",
   "execution_count": 11,
   "id": "8909fd99",
   "metadata": {},
   "outputs": [
    {
     "name": "stderr",
     "output_type": "stream",
     "text": [
      "C:\\Users\\Brian\\AppData\\Local\\Temp/ipykernel_21040/1613061821.py:3: FutureWarning: In a future version of pandas all arguments of DataFrame.drop except for the argument 'labels' will be keyword-only\n",
      "  df.drop('Rk', 1, inplace = True)\n"
     ]
    }
   ],
   "source": [
    "df['Nation'] = list(map(lambda x: x[-3:], df['Nation']))\n",
    "df['Age'] = list(map(lambda x: x[:2], df['Age']))\n",
    "df.drop('Rk', 1, inplace = True)\n",
    "df.reset_index(inplace = True)\n",
    "df['index'] = list(map(lambda x: x+1, df['index']))"
   ]
  },
  {
   "cell_type": "code",
   "execution_count": 13,
   "id": "4829d2f9",
   "metadata": {},
   "outputs": [
    {
     "name": "stderr",
     "output_type": "stream",
     "text": [
      "C:\\Users\\Brian\\AppData\\Local\\Programs\\Python\\Python39\\lib\\site-packages\\pandas\\core\\frame.py:5039: SettingWithCopyWarning: \n",
      "A value is trying to be set on a copy of a slice from a DataFrame\n",
      "\n",
      "See the caveats in the documentation: https://pandas.pydata.org/pandas-docs/stable/user_guide/indexing.html#returning-a-view-versus-a-copy\n",
      "  return super().rename(\n",
      "C:\\Users\\Brian\\AppData\\Local\\Temp/ipykernel_21040/951836375.py:3: FutureWarning: In a future version of pandas all arguments of DataFrame.drop except for the argument 'labels' will be keyword-only\n",
      "  stats = df.drop(['Player', 'Nation', 'Pos', 'Squad', 'Age', 'Born'], 1)\n"
     ]
    }
   ],
   "source": [
    "players = df[['index', 'Player', 'Nation', 'Pos', 'Squad', 'Age', 'Born']]\n",
    "players.rename(columns = {'index':'Id'}, inplace = True)\n",
    "stats = df.drop(['Player', 'Nation', 'Pos', 'Squad', 'Age', 'Born'], 1)\n",
    "stats.rename(columns = {'index':'PlayerId'}, inplace = True)"
   ]
  },
  {
   "cell_type": "code",
   "execution_count": 15,
   "id": "97bb9eb2",
   "metadata": {},
   "outputs": [
    {
     "name": "stderr",
     "output_type": "stream",
     "text": [
      "C:\\Users\\Brian\\AppData\\Local\\Programs\\Python\\Python39\\lib\\site-packages\\pandas\\core\\generic.py:2872: UserWarning: The spaces in these column names will not be changed. In pandas versions < 0.14, spaces were converted to underscores.\n",
      "  sql.to_sql(\n"
     ]
    }
   ],
   "source": [
    "#connect to mlsdb and create/update players table\n",
    "with sqlite3.connect('mlsdb.sqlite') as conn:\n",
    "    c = conn.cursor()\n",
    "    c.execute('CREATE TABLE IF NOT EXISTS players (id INT, name TEXT, nation TEXT, position TEXT, squad TEXT, age INTEGER, born INTEGER)')\n",
    "    conn.commit()\n",
    "    players.to_sql('players', conn, if_exists='replace', index = False)\n",
    "    \n",
    "    c.execute('CREATE TABLE IF NOT EXISTS stats (playerId INT, ninetys FLOAT, tklW INT, tklDef INT, tklMid INT, tklAtt INT, tklDrib INT, att INT, past INT, pressW INT, pressDef INT, pressMid INT, pressAtt INT, shotsBlocked INT, passesBlocked INT, int INT, clr INT, err INT, scPassLive INT, scPassDead INT, scDrib INT, scSh INT, scFld INT, scDef INT, gcPassLive INT, gcPassDead INT, gcDrib INT, gcSh INT, gcFld INT, gcDef INT, crdY INT, crdR INT, crdR2 INT, fls INT, fld INT, off INT, crs INT, pkEarned INT, pkGiven INT, og INT, recov INT, airW INT, airL INT, passTotDist INT, passPrgDist INT, shortPassCmp INT, shortPassAtt INT, medPassCmp INT, medPassAtt INT, lngPassCmp INT, lngPassAtt INT, ast INT, xa INT, ppa INT, crspa INT, progPasses INT, defPenTouches INT, defTouches INT, midTouches INT, attTouches INT, attPenTouches INT, dribSucc INT, dribAtt INT, dribPast INT, megs INT, carries INT, carriesDist INT, carriesPrgDist INT, cariesProg INT, carriesPa INT, carriesMis INT, carriesLost INT, passTarget INT, passReciever INT, recievePct FLOAT, progPassRecieved INT, gls INT, sh INT, shOnTarget INT, avgShDist FLOAT, fkSh INT, pkMade INT, pkAtt INT, xg INT, npxg INT, matches INT, min INT, starts INT, minPerStart INT, complete INT, subs INT, minPerSub INT, unsub INT, ppm FLOAT, goalsOnPitch INT, gaOnPitch INT, plusMinus INT, onOff FLOAT, onXg FLOAT, onXga FLOAT)')     \n",
    "    conn.commit()\n",
    "    stats.to_sql('stats', conn, if_exists='replace', index = False)    "
   ]
  },
  {
   "cell_type": "code",
   "execution_count": 180,
   "id": "8b70affe",
   "metadata": {},
   "outputs": [
    {
     "data": {
      "text/plain": [
       "Index(['PlayerId', 'Rk_x', 'Nation_x', 'Pos_x', 'Squad_x', 'Age_x', 'Born_x',\n",
       "       '90s_x', 'Tkl', 'TklW_x',\n",
       "       ...\n",
       "       '+/-', '+/-90', 'On-Off', 'onxG', 'onxGA', 'xG+/-', 'xG+/-90',\n",
       "       'On-Off.1', 'Matches_y', '-9999_y'],\n",
       "      dtype='object', length=195)"
      ]
     },
     "execution_count": 180,
     "metadata": {},
     "output_type": "execute_result"
    }
   ],
   "source": []
  },
  {
   "cell_type": "code",
   "execution_count": null,
   "id": "44785a8d",
   "metadata": {},
   "outputs": [],
   "source": []
  },
  {
   "cell_type": "code",
   "execution_count": null,
   "id": "a9254e91",
   "metadata": {},
   "outputs": [],
   "source": []
  }
 ],
 "metadata": {
  "kernelspec": {
   "display_name": "Python 3 (ipykernel)",
   "language": "python",
   "name": "python3"
  },
  "language_info": {
   "codemirror_mode": {
    "name": "ipython",
    "version": 3
   },
   "file_extension": ".py",
   "mimetype": "text/x-python",
   "name": "python",
   "nbconvert_exporter": "python",
   "pygments_lexer": "ipython3",
   "version": "3.9.8"
  }
 },
 "nbformat": 4,
 "nbformat_minor": 5
}
